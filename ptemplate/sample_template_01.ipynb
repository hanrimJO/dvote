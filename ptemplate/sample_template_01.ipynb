{
  "nbformat": 4,
  "nbformat_minor": 0,
  "metadata": {
    "kernelspec": {
      "display_name": "Python 3",
      "language": "python",
      "name": "python3"
    },
    "language_info": {
      "codemirror_mode": {
        "name": "ipython",
        "version": 3
      },
      "file_extension": ".py",
      "mimetype": "text/x-python",
      "name": "python",
      "nbconvert_exporter": "python",
      "pygments_lexer": "ipython3",
      "version": "3.7.4"
    },
    "colab": {
      "name": "report_template.ipynb",
      "provenance": []
    }
  },
  "cells": [
    {
      "cell_type": "code",
      "execution_count": 0,
      "metadata": {
        "colab": {},
        "colab_type": "code",
        "id": "nD5cfFIvHBp4"
      },
      "outputs": [],
      "source": [
        "# <- 모든 블럭은 반드시 순차적으로 실행되어야 합니다.\n",
        "# DO NOT EDIT THIS BLOCK\n",
        "# import default package \n",
        "\n",
        "init = '''\n",
        "import pandas as pd\n",
        "import numpy as np\n",
        "import matplotlib.pyplot as plt\n",
        "import subprocess\n",
        "import sys\n",
        "\n",
        "subprocess.run('pip install --upgrade pip'.split())\n",
        "\n",
        "def install(package):\n",
        "    subprocess.run([\"pip\", \"install\", package])\n",
        "\n",
        "def load_module_func(module):\n",
        "    print(\"mod 출력입니다: \", module)\n",
        "    mod = __import__(module, [])\n",
        "    return mod\n",
        "'''\n",
        "\n",
        "fini = '''\n",
        "import os\n",
        "import sys\n",
        "\n",
        "sys.path.append(os.path.dirname(os.path.abspath(os.path.dirname(os.path.abspath(os.path.dirname(__file__))))))\n",
        "\n",
        "import reports\n",
        "\n",
        "vote = {\n",
        "    'init': init,\n",
        "    'precinct': prec,\n",
        "    'candidate': cand\n",
        "}\n",
        "reports.checkResult(vote)\n",
        "\n",
        "'''\n",
        "\n",
        "exec(init)"
      ]
    },
    {
      "cell_type": "code",
      "execution_count": 0,
      "metadata": {
        "colab": {},
        "colab_type": "code",
        "id": "cJPypi4JHBqD"
      },
      "outputs": [],
      "source": [
        "# 사용자가 사용하는 패키지 로드 & 데이터 로드\n",
        "# 반드시 try 내부에서 임포트를 해주셔야 합니다.\n",
        "# 추가 패키지 하나 당 try-except-finally를 실행해 주셔야 합니다.\n",
        "module_list = []\n",
        "for module in module_list:\n",
        "    try:\n",
        "        load_module_func(module)\n",
        "    except:\n",
        "        install(module)\n",
        "    finally:\n",
        "        load_module_func(module)\n",
        "        \n"
      ]
    },
    {
      "cell_type": "code",
      "execution_count": 0,
      "metadata": {
        "colab": {},
        "colab_type": "code",
        "id": "9xrIqCZrHBqM"
      },
      "outputs": [],
      "source": [
        "# 데이터 분석 부분\n",
        "\n",
        "\n"
      ]
    },
    {
      "cell_type": "code",
      "execution_count": null,
      "metadata": {},
      "outputs": [
        {
          "ename": "Error",
          "evalue": "Jupyter cannot be started. Error attempting to locate jupyter: Data Science library notebook is not installed in interpreter Python 3.8.2 64-bit ('dataVenv': venv).",
          "output_type": "error",
          "traceback": [
            "Error: Jupyter cannot be started. Error attempting to locate jupyter: Data Science library notebook is not installed in interpreter Python 3.8.2 64-bit ('dataVenv': venv).",
            "at A.startServer (/home/jb/.vscode/extensions/ms-python.python-2020.2.64397/out/client/extension.js:1:786058)",
            "at A.ensureServerAndNotebookImpl (/home/jb/.vscode/extensions/ms-python.python-2020.2.64397/out/client/extension.js:1:785513)",
            "at A.ensureServerAndNotebook (/home/jb/.vscode/extensions/ms-python.python-2020.2.64397/out/client/extension.js:1:785314)",
            "at A.submitCode (/home/jb/.vscode/extensions/ms-python.python-2020.2.64397/out/client/extension.js:1:782266)",
            "at A.reexecuteCell (/home/jb/.vscode/extensions/ms-python.python-2020.2.64397/out/client/extension.js:75:879318)"
          ]
        }
      ],
      "source": [
        "# 분석 결과를 보고 형식에 맞춰 작성\n",
        "\n",
        "prec = \"종로구\"\n",
        "cand = \"이낙연\"\n"
      ]
    },
    {
      "cell_type": "code",
      "execution_count": 0,
      "metadata": {
        "colab": {},
        "colab_type": "code",
        "id": "AcqceIKwHBqW"
      },
      "outputs": [],
      "source": [
        "############################\n",
        "# DO NOT DELETE THIS BLOCK #\n",
        "# IF YOU RUN THIS BLOCK,   #\n",
        "#           ERROR OCCURS!  #\n",
        "############################\n",
        "\n",
        "exec(fini)"
      ]
    }
  ]
}